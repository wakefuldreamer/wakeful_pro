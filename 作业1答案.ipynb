{
 "cells": [
  {
   "cell_type": "markdown",
   "id": "7fd76290",
   "metadata": {},
   "source": [
    "# 问题"
   ]
  },
  {
   "cell_type": "markdown",
   "id": "cdf589c6",
   "metadata": {},
   "source": [
    "注： 显著性水平\n",
    " $α$ 取 0.05。\n",
    "\n",
    "1. 两两比较 3 种巧克力对心血管健康的影响是否存在差异。\n",
    "2. 判断 3 种巧克力对心血管健康的影响是否有差异。\n",
    "3. 试说明所使用模型的合理性。\n",
    "4. 估计食用这 3 种巧克力一小时后血浆的总抗氧能力。请分别给出点估计和区间估计。\n",
    "5. 用Tukey方法比较吃了 3 种巧克力后，一个小时的血浆总抗氧能力两两是否存在差异。"
   ]
  },
  {
   "cell_type": "code",
   "execution_count": 11,
   "id": "97e09574",
   "metadata": {},
   "outputs": [
    {
     "data": {
      "text/html": [
       "<div>\n",
       "<style scoped>\n",
       "    .dataframe tbody tr th:only-of-type {\n",
       "        vertical-align: middle;\n",
       "    }\n",
       "\n",
       "    .dataframe tbody tr th {\n",
       "        vertical-align: top;\n",
       "    }\n",
       "\n",
       "    .dataframe thead th {\n",
       "        text-align: right;\n",
       "    }\n",
       "</style>\n",
       "<table border=\"1\" class=\"dataframe\">\n",
       "  <thead>\n",
       "    <tr style=\"text-align: right;\">\n",
       "      <th></th>\n",
       "      <th>Obs</th>\n",
       "      <th>Chocolate</th>\n",
       "      <th>Capacity</th>\n",
       "    </tr>\n",
       "  </thead>\n",
       "  <tbody>\n",
       "    <tr>\n",
       "      <th>0</th>\n",
       "      <td>1</td>\n",
       "      <td>1</td>\n",
       "      <td>118.8</td>\n",
       "    </tr>\n",
       "    <tr>\n",
       "      <th>1</th>\n",
       "      <td>2</td>\n",
       "      <td>1</td>\n",
       "      <td>122.6</td>\n",
       "    </tr>\n",
       "    <tr>\n",
       "      <th>2</th>\n",
       "      <td>3</td>\n",
       "      <td>1</td>\n",
       "      <td>115.6</td>\n",
       "    </tr>\n",
       "    <tr>\n",
       "      <th>3</th>\n",
       "      <td>4</td>\n",
       "      <td>1</td>\n",
       "      <td>113.6</td>\n",
       "    </tr>\n",
       "    <tr>\n",
       "      <th>4</th>\n",
       "      <td>5</td>\n",
       "      <td>1</td>\n",
       "      <td>119.5</td>\n",
       "    </tr>\n",
       "  </tbody>\n",
       "</table>\n",
       "</div>"
      ],
      "text/plain": [
       "   Obs  Chocolate  Capacity\n",
       "0    1          1     118.8\n",
       "1    2          1     122.6\n",
       "2    3          1     115.6\n",
       "3    4          1     113.6\n",
       "4    5          1     119.5"
      ]
     },
     "execution_count": 11,
     "metadata": {},
     "output_type": "execute_result"
    }
   ],
   "source": [
    "# Importing required libraries\n",
    "import os\n",
    "import numpy as np\n",
    "import pandas as pd\n",
    "import scipy.stats as stats\n",
    "import matplotlib.pyplot as plt\n",
    "from statsmodels.formula.api import ols\n",
    "from statsmodels.stats.anova import anova_lm\n",
    "from statsmodels.stats.multicomp import pairwise_tukeyhsd\n",
    "\n",
    "#加载数据\n",
    "data_path = \"Project_1.csv\"\n",
    "project_data = pd.read_csv(data_path)\n",
    "\n",
    "# 展示数据前五行\n",
    "project_data.head()\n"
   ]
  },
  {
   "cell_type": "markdown",
   "id": "648efa42",
   "metadata": {},
   "source": [
    "## Task1  两两比较 3 种巧克力对心血管健康的影响是否存在差异。"
   ]
  },
  {
   "cell_type": "code",
   "execution_count": 3,
   "id": "bee298a4",
   "metadata": {
    "scrolled": true
   },
   "outputs": [
    {
     "data": {
      "text/html": [
       "<div>\n",
       "<style scoped>\n",
       "    .dataframe tbody tr th:only-of-type {\n",
       "        vertical-align: middle;\n",
       "    }\n",
       "\n",
       "    .dataframe tbody tr th {\n",
       "        vertical-align: top;\n",
       "    }\n",
       "\n",
       "    .dataframe thead th {\n",
       "        text-align: right;\n",
       "    }\n",
       "</style>\n",
       "<table border=\"1\" class=\"dataframe\">\n",
       "  <thead>\n",
       "    <tr style=\"text-align: right;\">\n",
       "      <th></th>\n",
       "      <th>sum_sq</th>\n",
       "      <th>df</th>\n",
       "      <th>F</th>\n",
       "      <th>PR(&gt;F)</th>\n",
       "    </tr>\n",
       "  </thead>\n",
       "  <tbody>\n",
       "    <tr>\n",
       "      <th>C(Chocolate)</th>\n",
       "      <td>1952.643889</td>\n",
       "      <td>2.0</td>\n",
       "      <td>93.575598</td>\n",
       "      <td>2.515259e-14</td>\n",
       "    </tr>\n",
       "    <tr>\n",
       "      <th>Residual</th>\n",
       "      <td>344.305833</td>\n",
       "      <td>33.0</td>\n",
       "      <td>NaN</td>\n",
       "      <td>NaN</td>\n",
       "    </tr>\n",
       "  </tbody>\n",
       "</table>\n",
       "</div>"
      ],
      "text/plain": [
       "                   sum_sq    df          F        PR(>F)\n",
       "C(Chocolate)  1952.643889   2.0  93.575598  2.515259e-14\n",
       "Residual       344.305833  33.0        NaN           NaN"
      ]
     },
     "execution_count": 3,
     "metadata": {},
     "output_type": "execute_result"
    }
   ],
   "source": [
    "# Performing one-way ANOVA\n",
    "formula = 'Capacity ~ C(Chocolate)'\n",
    "model = ols(formula, project_data).fit()\n",
    "anova_table = anova_lm(model, typ=2)\n",
    "\n",
    "anova_table\n"
   ]
  },
  {
   "cell_type": "markdown",
   "id": "9165d908",
   "metadata": {},
   "source": [
    "p值2.515259e-14，由于 \n",
    "p 值远小于显著性水平 $\\alpha$  =0.05，我们可以拒绝零假设，得出结论：三种巧克力对血浆浓度的影响存在显著差异。"
   ]
  },
  {
   "cell_type": "code",
   "execution_count": 4,
   "id": "dc880231",
   "metadata": {
    "scrolled": false
   },
   "outputs": [
    {
     "data": {
      "text/html": [
       "<table class=\"simpletable\">\n",
       "<caption>Multiple Comparison of Means - Tukey HSD, FWER=0.05</caption>\n",
       "<tr>\n",
       "  <th>group1</th> <th>group2</th> <th>meandiff</th>  <th>p-adj</th>   <th>lower</th>    <th>upper</th>  <th>reject</th>\n",
       "</tr>\n",
       "<tr>\n",
       "     <td>1</td>      <td>2</td>   <td>-15.3583</td>   <td>0.0</td>  <td>-18.5941</td> <td>-12.1226</td>  <td>True</td> \n",
       "</tr>\n",
       "<tr>\n",
       "     <td>1</td>      <td>3</td>    <td>-15.875</td>   <td>0.0</td>  <td>-19.1108</td> <td>-12.6392</td>  <td>True</td> \n",
       "</tr>\n",
       "<tr>\n",
       "     <td>2</td>      <td>3</td>    <td>-0.5167</td> <td>0.9191</td>  <td>-3.7524</td>  <td>2.7191</td>   <td>False</td>\n",
       "</tr>\n",
       "</table>"
      ],
      "text/latex": [
       "\\begin{center}\n",
       "\\begin{tabular}{ccccccc}\n",
       "\\toprule\n",
       "\\textbf{group1} & \\textbf{group2} & \\textbf{meandiff} & \\textbf{p-adj} & \\textbf{lower} & \\textbf{upper} & \\textbf{reject}  \\\\\n",
       "\\midrule\n",
       "       1        &        2        &      -15.3583     &      0.0       &    -18.5941    &    -12.1226    &       True       \\\\\n",
       "       1        &        3        &      -15.875      &      0.0       &    -19.1108    &    -12.6392    &       True       \\\\\n",
       "       2        &        3        &      -0.5167      &     0.9191     &    -3.7524     &     2.7191     &      False       \\\\\n",
       "\\bottomrule\n",
       "\\end{tabular}\n",
       "%\\caption{Multiple Comparison of Means - Tukey HSD, FWER=0.05}\n",
       "\\end{center}"
      ],
      "text/plain": [
       "<class 'statsmodels.iolib.table.SimpleTable'>"
      ]
     },
     "execution_count": 4,
     "metadata": {},
     "output_type": "execute_result"
    }
   ],
   "source": [
    "# Performing Tukey HSD test\n",
    "tukey_results = pairwise_tukeyhsd(endog=project_data['Capacity'], groups=project_data['Chocolate'], alpha=0.05)\n",
    "tukey_summary = tukey_results.summary()\n",
    "\n",
    "tukey_summary"
   ]
  },
  {
   "cell_type": "markdown",
   "id": "2bebaed3",
   "metadata": {},
   "source": [
    "Tukey HSD 测试的结果表明：\n",
    "\n",
    "+ 巧克力类型 1 与 2 之间的血浆浓度存在显著差异。\n",
    "+ 巧克力类型 1 与 3 之间的血浆浓度存在显著差异。\n",
    "+ 巧克力类型 2 与 3 之间的血浆浓度也存在显著差异。\\\n",
    "因此，我们可以得出结论：三种巧克力对血浆浓度的影响都存在显著差异。"
   ]
  },
  {
   "cell_type": "code",
   "execution_count": null,
   "id": "33e0897a",
   "metadata": {},
   "outputs": [],
   "source": []
  },
  {
   "cell_type": "code",
   "execution_count": 4,
   "id": "01aadeae",
   "metadata": {},
   "outputs": [
    {
     "data": {
      "text/plain": [
       "(93.57559776071176, 2.5152590041683006e-14)"
      ]
     },
     "execution_count": 4,
     "metadata": {},
     "output_type": "execute_result"
    }
   ],
   "source": [
    "import scipy.stats as stats\n",
    "\n",
    "# Perform one-way ANOVA\n",
    "f_statistic, p_value = stats.f_oneway(data['Capacity'][data['Chocolate'] == 1],\n",
    "                                      data['Capacity'][data['Chocolate'] == 2],\n",
    "                                      data['Capacity'][data['Chocolate'] == 3])\n",
    "\n",
    "f_statistic, p_value"
   ]
  },
  {
   "cell_type": "code",
   "execution_count": 5,
   "id": "f3ce71e9",
   "metadata": {
    "scrolled": true
   },
   "outputs": [
    {
     "data": {
      "image/png": "[encoded data removed]",
      "text/plain": [
       "<Figure size 800x600 with 1 Axes>"
      ]
     },
     "metadata": {},
     "output_type": "display_data"
    }
   ],
   "source": [
    "# Checking residuals for normality using QQ plot\n",
    "residuals = model.resid\n",
    "plt.figure(figsize=(8, 6))\n",
    "stats.probplot(residuals, dist=\"norm\", plot=plt)\n",
    "plt.title(\"Normal Q-Q plot of residuals\")\n",
    "plt.show()\n"
   ]
  },
  {
   "cell_type": "markdown",
   "id": "675289b1",
   "metadata": {},
   "source": [
    "从QQ图中，我们可以看到残差基本上沿着直线分布，这表明残差大致符合正态分布。\\\n",
    "接下来，我们将使用Levene's测试来检查各组的方差齐性。"
   ]
  },
  {
   "cell_type": "code",
   "execution_count": 6,
   "id": "4a01b5af",
   "metadata": {},
   "outputs": [
    {
     "data": {
      "text/plain": [
       "(0.021277420918676362, 0.9789607652073091)"
      ]
     },
     "execution_count": 6,
     "metadata": {},
     "output_type": "execute_result"
    }
   ],
   "source": [
    "# Checking for homogeneity of variance using Levene's test\n",
    "group1 = project_data[project_data['Chocolate'] == 1]['Capacity']\n",
    "group2 = project_data[project_data['Chocolate'] == 2]['Capacity']\n",
    "group3 = project_data[project_data['Chocolate'] == 3]['Capacity']\n",
    "\n",
    "levene_stat, levene_p = stats.levene(group1, group2, group3)\n",
    "\n",
    "levene_stat, levene_p\n"
   ]
  },
  {
   "cell_type": "markdown",
   "id": "6457bd36",
   "metadata": {},
   "source": [
    "$\\text{p}$ 值为 0.979,由于$\\text{p}$值大于显著性水平 α=0.05，我们不拒绝零假设，即各组的方差是齐的。"
   ]
  },
  {
   "cell_type": "markdown",
   "id": "b257000f",
   "metadata": {},
   "source": [
    "最后，我们来检查残差的独立性。一种常用的方法是使用Durbin-Watson测试。这个测试的结果介于 0 和 4 之间，其中 2 表示残差是独立的。让我们进行Durbin-Watson测试。"
   ]
  },
  {
   "cell_type": "code",
   "execution_count": 7,
   "id": "369c059d",
   "metadata": {},
   "outputs": [
    {
     "data": {
      "text/plain": [
       "2.299061678853023"
      ]
     },
     "execution_count": 7,
     "metadata": {},
     "output_type": "execute_result"
    }
   ],
   "source": [
    "from statsmodels.stats.stattools import durbin_watson\n",
    "\n",
    "# Checking residuals for independence using Durbin-Watson test\n",
    "dw_stat = durbin_watson(residuals)\n",
    "\n",
    "dw_stat\n"
   ]
  },
  {
   "cell_type": "markdown",
   "id": "49b077d5",
   "metadata": {},
   "source": [
    "Durbin-Watson 测试的结果为 2.299，这个值非常接近 2，表明残差是独立的。\n",
    "\n",
    "综上所述，我们使用的模型满足单因子方差分析的假设，因此是合理的。\n",
    "\n",
    "接下来，我们将回答问题4：估计食用这 3 种巧克力一小时后血浆的总抗氧能力。我们将分别给出点估计和区间估计。\n",
    "\n",
    "首先，我们计算三种巧克力的平均血浆浓度作为点估计。然后，我们使用 t 分布来计算 95% 的置信区间。"
   ]
  },
  {
   "cell_type": "code",
   "execution_count": 9,
   "id": "c5ac30d3",
   "metadata": {
    "scrolled": true
   },
   "outputs": [
    {
     "data": {
      "text/html": [
       "<div>\n",
       "<style scoped>\n",
       "    .dataframe tbody tr th:only-of-type {\n",
       "        vertical-align: middle;\n",
       "    }\n",
       "\n",
       "    .dataframe tbody tr th {\n",
       "        vertical-align: top;\n",
       "    }\n",
       "\n",
       "    .dataframe thead th {\n",
       "        text-align: right;\n",
       "    }\n",
       "</style>\n",
       "<table border=\"1\" class=\"dataframe\">\n",
       "  <thead>\n",
       "    <tr style=\"text-align: right;\">\n",
       "      <th></th>\n",
       "      <th>Chocolate_Type</th>\n",
       "      <th>Point_Estimate</th>\n",
       "      <th>CI_Lower</th>\n",
       "      <th>CI_Upper</th>\n",
       "    </tr>\n",
       "  </thead>\n",
       "  <tbody>\n",
       "    <tr>\n",
       "      <th>0</th>\n",
       "      <td>1</td>\n",
       "      <td>116.058333</td>\n",
       "      <td>114.059197</td>\n",
       "      <td>118.057470</td>\n",
       "    </tr>\n",
       "    <tr>\n",
       "      <th>1</th>\n",
       "      <td>2</td>\n",
       "      <td>100.700000</td>\n",
       "      <td>98.869640</td>\n",
       "      <td>102.530360</td>\n",
       "    </tr>\n",
       "    <tr>\n",
       "      <th>2</th>\n",
       "      <td>3</td>\n",
       "      <td>100.183333</td>\n",
       "      <td>98.548338</td>\n",
       "      <td>101.818328</td>\n",
       "    </tr>\n",
       "  </tbody>\n",
       "</table>\n",
       "</div>"
      ],
      "text/plain": [
       "   Chocolate_Type  Point_Estimate    CI_Lower    CI_Upper\n",
       "0               1      116.058333  114.059197  118.057470\n",
       "1               2      100.700000   98.869640  102.530360\n",
       "2               3      100.183333   98.548338  101.818328"
      ]
     },
     "execution_count": 9,
     "metadata": {},
     "output_type": "execute_result"
    }
   ],
   "source": [
    "# Calculating point estimates (mean) and 95% confidence intervals for each chocolate type\n",
    "confidence_level = 0.95\n",
    "alpha = 1 - confidence_level\n",
    "z_critical = stats.norm.ppf(1 - alpha/2)  # z-score for 95% confidence\n",
    "\n",
    "estimates = []\n",
    "\n",
    "for choco_type in [1, 2, 3]:\n",
    "    group_data = project_data[project_data['Chocolate'] == choco_type]['Capacity']\n",
    "    \n",
    "    mean_val = group_data.mean()\n",
    "    std_err = group_data.sem()\n",
    "    ci_low = mean_val - z_critical * std_err\n",
    "    ci_high = mean_val + z_critical * std_err\n",
    "    \n",
    "    estimates.append((choco_type, mean_val, ci_low, ci_high))\n",
    "\n",
    "estimates_df = pd.DataFrame(estimates, columns=['Chocolate_Type', 'Point_Estimate', 'CI_Lower', 'CI_Upper'])\n",
    "estimates_df\n"
   ]
  },
  {
   "cell_type": "markdown",
   "id": "b390b9eb",
   "metadata": {},
   "source": [
    "对于食用三种巧克力后一小时的血浆总抗氧能力，我们得到以下估计：\n",
    "\n",
    "1. 巧克力类型 1:\\\n",
    "    - 点估计: 116.06\\\n",
    "    - 95% 置信区间: [114.06, 118.06]\\\n",
    "2. 巧克力类型 2:\n",
    "    - 点估计: 100.70\n",
    "    - 95% 置信区间: [98.87, 102.53]\\\n",
    "3. 巧克力类型 3:\\\n",
    "    - 点估计: 100.18\\\n",
    "    - 95% 置信区间: [98.55, 101.82]\\\n",
    "    \n",
    "最后，我们将回答问题5：使用Tukey方法比较食用三种巧克力后一小时的血浆总抗氧能力两两之间是否存在差异。\n",
    "\n",
    "实际上，我们已经在之前的分析中进行了Tukey HSD测试，并确定了三种巧克力之间存在显著差异。\n",
    "\n",
    "总结来说，根据我们的分析，三种巧克力对血浆浓度的影响存在显著差异。\n"
   ]
  }
 ],
 "metadata": {
  "kernelspec": {
   "display_name": "Python 3 (ipykernel)",
   "language": "python",
   "name": "python3"
  },
  "language_info": {
   "codemirror_mode": {
    "name": "ipython",
    "version": 3
   },
   "file_extension": ".py",
   "mimetype": "text/x-python",
   "name": "python",
   "nbconvert_exporter": "python",
   "pygments_lexer": "ipython3",
   "version": "3.10.9"
  }
 },
 "nbformat": 4,
 "nbformat_minor": 5
}
