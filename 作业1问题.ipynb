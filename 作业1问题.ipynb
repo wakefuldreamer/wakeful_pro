{
 "cells": [
  {
   "cell_type": "markdown",
   "id": "a6eacdd7",
   "metadata": {},
   "source": [
    "# 背景描述"
   ]
  },
  {
   "cell_type": "markdown",
   "id": "1cacdac3",
   "metadata": {},
   "source": [
    "为了调查吃巧克力对心血管健康的影响，实验由三种类型的巧克力组成：100g的黑巧克力，含有200mg全脂牛奶的100g黑巧克力和200g的牛奶巧克力。12个实验对象：7女5男。在不同的天数里，每个实验对象将吃一种类型的巧克力，一个小时后测量他们血浆的总抗氧能力。"
   ]
  },
  {
   "cell_type": "markdown",
   "id": "10938598",
   "metadata": {},
   "source": [
    "# 数据描述"
   ]
  },
  {
   "cell_type": "markdown",
   "id": "75e9ca9d",
   "metadata": {},
   "source": [
    "实验次序本身具有随机性，无需再随机化。请使用`Project_1.csv`中的数据集。数据字典如下表所示。\n",
    "\n",
    "| 变量名      | 变量含义   | 变量类型   | 变量取值范围 |\n",
    "|------------|------------|------------|------------|\n",
    "| Chocolate  | 巧克力类型 | 分类变量   | {1,2,3}     |\n",
    "| Capacity   | 血浆浓度   | 连续变量   | R           |\n"
   ]
  },
  {
   "cell_type": "markdown",
   "id": "2f26a7cd",
   "metadata": {},
   "source": [
    "# 问题"
   ]
  },
  {
   "cell_type": "markdown",
   "id": "639e321f",
   "metadata": {},
   "source": [
    "注： 显著性水平\n",
    " α 取 0.05。\n",
    "\n",
    "1. 两两比较 3 种巧克力对心血管健康的影响是否存在差异。\n",
    "2. 判断 3 种巧克力对心血管健康的影响是否有差异。\n",
    "3. 试说明所使用模型的合理性。\n",
    "4. 估计食用这 3 种巧克力一小时后血浆的总抗氧能力。请分别给出点估计和区间估计。\n",
    "5. 用Tukey方法比较吃了 3 种巧克力后，一个小时的血浆总抗氧能力两两是否存在差异。"
   ]
  },
  {
   "cell_type": "code",
   "execution_count": 5,
   "id": "98b62613",
   "metadata": {},
   "outputs": [
    {
     "data": {
      "text/plain": [
       "'C:\\\\Users\\\\datasci\\\\DASE'"
      ]
     },
     "execution_count": 5,
     "metadata": {},
     "output_type": "execute_result"
    }
   ],
   "source": [
    "import os\n",
    "os.getcwd()"
   ]
  }
 ],
 "metadata": {
  "kernelspec": {
   "display_name": "Python 3 (ipykernel)",
   "language": "python",
   "name": "python3"
  },
  "language_info": {
   "codemirror_mode": {
    "name": "ipython",
    "version": 3
   },
   "file_extension": ".py",
   "mimetype": "text/x-python",
   "name": "python",
   "nbconvert_exporter": "python",
   "pygments_lexer": "ipython3",
   "version": "3.10.9"
  }
 },
 "nbformat": 4,
 "nbformat_minor": 5
}
