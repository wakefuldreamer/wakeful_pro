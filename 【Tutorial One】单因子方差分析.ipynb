{
 "cells": [
  {
   "cell_type": "markdown",
   "id": "1c23dadf",
   "metadata": {},
   "source": [
    "# 单因子方差分析\n",
    "\n",
    "## 实验前的准备\n",
    "本次实验我们载入一些Python的安装包，如下："
   ]
  },
  {
   "cell_type": "code",
   "execution_count": 16,
   "id": "718bb185",
   "metadata": {},
   "outputs": [],
   "source": [
    "import os # 修改工作目录\n",
    "\n",
    "import numpy as np\n",
    "import pandas as pd\n",
    "import scipy.stats as stats # 统计函数\n",
    "import matplotlib.pyplot as plt\n",
    "from plotnine import * # ggplot 绘图\n",
    "from plotnine.data import mpg\n",
    "from jupyterquiz import display_quiz # Quiz\n",
    "\n",
    "#from ggplot import ggplot\n",
    "\n",
    "import math\n",
    "\n",
    "from statsmodels.formula.api import ols\n",
    "from statsmodels.stats.anova import anova_lm\n",
    "from statsmodels.stats.multicomp import pairwise_tukeyhsd\n",
    "from scipy.stats import f\n",
    "from scipy.stats import t\n",
    "from statsmodels.stats.stattools import durbin_watson"
   ]
  },
  {
   "cell_type": "markdown",
   "id": "fdc8c631",
   "metadata": {},
   "source": [
    "设置数据目录，如下："
   ]
  },
  {
   "cell_type": "code",
   "execution_count": 2,
   "id": "e981d04e",
   "metadata": {},
   "outputs": [],
   "source": [
    "# os.chdir(\"/Users/lyuni/ECNU_DaSE/Courses/Stat_ML/Experiment/Data\")"
   ]
  },
  {
   "cell_type": "markdown",
   "id": "e842b56d",
   "metadata": {},
   "source": [
    "## 背景\n",
    "现在有三种不同的饮食方式，分别记为A、B和C。不同的饮食方式对人体重变化的影响可能是不同的。我们招募了72名志愿者参与这个这次实验。实验采用双盲的方式，随机分配志愿者到一种饮食方式。 注： 双盲实验：研究对象和研究者都不了解试验分组情况，而是由研究设计者来安排和控制全部试验。\n",
    "\n",
    "## 数据\n",
    "数据集Data_1是我们本次采集的数据，具体形式如下所示。"
   ]
  },
  {
   "cell_type": "code",
   "execution_count": 3,
   "id": "af4661b2",
   "metadata": {},
   "outputs": [
    {
     "name": "stdout",
     "output_type": "stream",
     "text": [
      "Data 1 is shown as follows: \n",
      "     gender  age  height diet.type  initial.weight  final.weight\n",
      "0   Female   22     159         A              58          54.2\n",
      "1   Female   46     192         A              60          54.0\n",
      "2   Female   55     170         A              64          63.3\n",
      "3   Female   33     171         A              64          61.1\n",
      "4   Female   50     170         A              65          62.2\n",
      "..     ...  ...     ...       ...             ...           ...\n",
      "67    Male   35     183         C              83          80.2\n",
      "68    Male   49     177         C              84          79.9\n",
      "69    Male   28     164         C              85          79.7\n",
      "70    Male   40     167         C              87          77.8\n",
      "71    Male   51     175         C              88          81.9\n",
      "\n",
      "[72 rows x 6 columns]\n"
     ]
    }
   ],
   "source": [
    "print('Data 1 is shown as follows: \\n', pd.read_csv(\"Data_1.csv\"))"
   ]
  },
  {
   "cell_type": "markdown",
   "id": "8d20e0a4",
   "metadata": {},
   "source": [
    "在Data_1这个数据集中共有72名志愿者的基本信息，包括：性别、年龄和身高，以及参与本次实验的信息，包括饮食方式、参与实验前的体重和6周后的体重。"
   ]
  },
  {
   "cell_type": "markdown",
   "id": "1eb20c76",
   "metadata": {},
   "source": [
    "## 任务\n",
    "在本次实验中，我们需要解决以下四个问题：\n",
    "\n",
    "1. 比较 A 和 B 两种饮食方式对减重的影响是否存在差异？\n",
    "2. 利用单因素方差分析模型，比较三种饮食方式对减重的影响是否存在差异？\n",
    "3. 给出单因素方差分析模型中参数的估计值，并阐述其含义。\n",
    "4. 请说明所使用的模型的合理性。\n",
    "5. 试用Tukey方法比较 3 个饮食方式水平下的减重程度两两是否存在差异。\n",
    "注：本实验中的显著性水平为  𝛼=0.05 。"
   ]
  },
  {
   "cell_type": "markdown",
   "id": "f9322f9a",
   "metadata": {},
   "source": [
    "## 解决方案\n",
    "\n",
    "### 数据预处理"
   ]
  },
  {
   "cell_type": "code",
   "execution_count": 4,
   "id": "59196ba6",
   "metadata": {},
   "outputs": [],
   "source": [
    "alpha = 0.05 # significant level\n",
    "a = 3 # number of levels\n",
    "m = 24 # number of replicates\n",
    "n = a*m # sample size"
   ]
  },
  {
   "cell_type": "markdown",
   "id": "05d77f41",
   "metadata": {},
   "source": [
    "- 响应变量\n",
    "\n",
    "我们关心的是志愿者参与此次实验前后的体重差异，即志愿者参与实验前的体重减去6周时的体重。"
   ]
  },
  {
   "cell_type": "code",
   "execution_count": 5,
   "id": "8e8e68d9",
   "metadata": {},
   "outputs": [
    {
     "name": "stdout",
     "output_type": "stream",
     "text": [
      "Index(['gender', 'age', 'height', 'diet.type', 'initial.weight',\n",
      "       'final.weight'],\n",
      "      dtype='object')\n"
     ]
    }
   ],
   "source": [
    "## Load Data\n",
    "Data = pd.read_csv(\"Data_1.csv\")\n",
    "print(Data.columns)# Print the column names of Data_1"
   ]
  },
  {
   "cell_type": "code",
   "execution_count": 18,
   "id": "18e92c71",
   "metadata": {
    "scrolled": true
   },
   "outputs": [
    {
     "data": {
      "text/plain": [
       "Diet_type       object\n",
       "Weight_loss    float64\n",
       "dtype: object"
      ]
     },
     "execution_count": 18,
     "metadata": {},
     "output_type": "execute_result"
    }
   ],
   "source": [
    "Data.dtypes"
   ]
  },
  {
   "cell_type": "code",
   "execution_count": 7,
   "id": "a6fb225f",
   "metadata": {},
   "outputs": [
    {
     "name": "stdout",
     "output_type": "stream",
     "text": [
      "<class 'pandas.core.frame.DataFrame'>\n",
      "RangeIndex: 72 entries, 0 to 71\n",
      "Data columns (total 6 columns):\n",
      " #   Column          Non-Null Count  Dtype  \n",
      "---  ------          --------------  -----  \n",
      " 0   gender          72 non-null     object \n",
      " 1   age             72 non-null     int64  \n",
      " 2   height          72 non-null     int64  \n",
      " 3   diet.type       72 non-null     object \n",
      " 4   initial.weight  72 non-null     int64  \n",
      " 5   final.weight    72 non-null     float64\n",
      "dtypes: float64(1), int64(3), object(2)\n",
      "memory usage: 3.5+ KB\n"
     ]
    }
   ],
   "source": [
    "Data.info()"
   ]
  },
  {
   "cell_type": "code",
   "execution_count": 8,
   "id": "4d440ce0",
   "metadata": {},
   "outputs": [
    {
     "name": "stdout",
     "output_type": "stream",
     "text": [
      "   Diet_type  Weight_loss\n",
      "0          A          3.8\n",
      "1          A          6.0\n",
      "2          A          0.7\n",
      "3          A          2.9\n",
      "4          A          2.8\n",
      "..       ...          ...\n",
      "67         C          2.8\n",
      "68         C          4.1\n",
      "69         C          5.3\n",
      "70         C          9.2\n",
      "71         C          6.1\n",
      "\n",
      "[72 rows x 2 columns]\n"
     ]
    }
   ],
   "source": [
    "## Construct a New Dataset\n",
    "Data = Data[['diet.type','initial.weight','final.weight']] # select some columns from a dataset\n",
    "Data['weight.loss'] = Data['initial.weight'] - Data['final.weight']\n",
    "Data = Data.drop(labels=['initial.weight', 'final.weight'], axis = 1) # delete some columns from a dataset\n",
    "Data.columns = ['Diet_type','Weight_loss']\n",
    "print(Data)"
   ]
  },
  {
   "cell_type": "markdown",
   "id": "e011997f",
   "metadata": {},
   "source": [
    "这样我们构造了一个合适的数据集，其中包括两列的数据。第一列指的是每一名志愿者所被分配的饮食方式，其取值分别为A，B 和 C。第二列指的是每一名志愿者经过6周的观察后体重的减少量。"
   ]
  },
  {
   "cell_type": "markdown",
   "id": "3383f917",
   "metadata": {},
   "source": [
    "### Task1: 比较 A 和 B 两种饮食方式对减重的影响是否存在差异？\n",
    "\n",
    "我们先来看一下数据是怎样的？"
   ]
  },
  {
   "cell_type": "code",
   "execution_count": 9,
   "id": "f1519749",
   "metadata": {},
   "outputs": [
    {
     "name": "stdout",
     "output_type": "stream",
     "text": [
      "   Diet_type  Weight_loss\n",
      "0          A          3.8\n",
      "1          A          6.0\n",
      "2          A          0.7\n",
      "3          A          2.9\n",
      "4          A          2.8\n",
      "5          A          2.0\n",
      "6          A          2.0\n",
      "7          A          8.5\n",
      "8          A          1.9\n",
      "9          A          3.1\n",
      "10         A          1.5\n",
      "11         A          3.0\n",
      "12         A          3.6\n",
      "13         A          0.9\n",
      "14         B         -2.1\n",
      "15         B          2.0\n",
      "16         B          1.7\n",
      "17         B          4.3\n",
      "18         B          0.6\n",
      "19         B          2.7\n",
      "20         B          3.6\n",
      "21         B          3.0\n",
      "22         B          2.0\n",
      "23         B          4.2\n",
      "24         B          4.7\n",
      "25         B          3.3\n",
      "26         B         -0.5\n",
      "39         A         -0.6\n",
      "40         A          1.1\n",
      "41         A          4.5\n",
      "42         A          4.1\n",
      "43         A          9.0\n",
      "44         A          2.4\n",
      "45         A          3.9\n",
      "46         A          3.5\n",
      "47         A          5.1\n",
      "48         A          3.5\n",
      "49         B          4.2\n",
      "50         B          2.4\n",
      "51         B          5.8\n",
      "52         B          3.5\n",
      "53         B          5.3\n",
      "54         B          1.7\n",
      "55         B          5.4\n",
      "56         B          6.1\n",
      "57         B          7.9\n",
      "58         B         -1.4\n",
      "59         B          4.3\n"
     ]
    }
   ],
   "source": [
    "Data[\"Diet_type\"].value_counts()\n",
    "index_delete = Data[(Data[\"Diet_type\"] == \"C\")].index.tolist()\n",
    "Data1 = Data.drop(index = index_delete)\n",
    "print(Data1)"
   ]
  },
  {
   "cell_type": "code",
   "execution_count": 10,
   "id": "01d4d69a",
   "metadata": {},
   "outputs": [
    {
     "data": {
      "text/plain": [
       "A    24\n",
       "B    24\n",
       "C    24\n",
       "Name: Diet_type, dtype: int64"
      ]
     },
     "execution_count": 10,
     "metadata": {},
     "output_type": "execute_result"
    }
   ],
   "source": [
    "Data[\"Diet_type\"].value_counts()"
   ]
  },
  {
   "cell_type": "markdown",
   "id": "d4d17e3b",
   "metadata": {},
   "source": [
    "我们绘制一张图来刻画两种饮食方式下体重变化量的“分布”，如下图。"
   ]
  },
  {
   "cell_type": "code",
   "execution_count": 11,
   "id": "d08b69d7",
   "metadata": {},
   "outputs": [
    {
     "data": {
      "image/png": "[encoded data removed]",
      "text/plain": [
       "<Figure size 640x480 with 1 Axes>"
      ]
     },
     "metadata": {
      "image/png": {
       "height": 480,
       "width": 640
      }
     },
     "output_type": "display_data"
    },
    {
     "data": {
      "text/plain": [
       "<Figure Size: (640 x 480)>"
      ]
     },
     "execution_count": 11,
     "metadata": {},
     "output_type": "execute_result"
    }
   ],
   "source": [
    "(ggplot(Data1, aes(x=\"Diet_type\",y=\"Weight_loss\",fill=\"Diet_type\"))\n",
    "         + geom_dotplot(binaxis = \"y\", stackdir = \"center\", binwidth = 0.15, show_legend = False)\n",
    "         + scale_fill_hue(s = 0.90, l = 0.60, h = 0.05, color_space = 'husl')\n",
    "         + theme_matplotlib())"
   ]
  },
  {
   "cell_type": "markdown",
   "id": "882eaa6c",
   "metadata": {},
   "source": [
    "在上图中，可以从直观上比较两种饮食方式对体重变化量的影响。对于采用饮食方式A，志愿者的体重变化量集中在$3$附近，但有两个较大的数值；对于采用饮食方式B，志愿者的体重变化量集中在$4$附近，但也有三个负值。感觉上，两种饮食方式是有区别的。但是，这种“区别”会否是由于志愿者个体差异所造成的？还是这种“区别”是明显地有别于个体差异的？我们仍需要用量化的手段加以衡量。为了比较两组数据是否存在差异，一种常用的方法是二样本独立$t$检验。\n",
    "\n",
    "接下来，我们回顾一下二样本独立$t$检验。\n",
    "\n",
    "假定第一组数据$x_1,x_2,\\cdots,x_{m_1}$来自一个正态分布$N(\\mu_1,\\sigma^2)$，第二组数据$y_1,y_2,\\cdots,y_{m_2}$来自另一个正态分布$N(\\mu_2,\\sigma^2)$，并且这两个正态分布是相互独立的。于是，比较两组数据差异的问题，就转化为比较两个总体均值差异的问题。通常，我们会考虑这样的一对假设，即原假设和备择假设分别为\n",
    "$$\n",
    "H_0: \\mu_1 = \\mu_2, \\quad \\text{vs} \\quad H_1: \\mu_1\\neq \\mu_2.\n",
    "$$\n",
    "为解决这个问题，我们构建了一个检验统计量为\n",
    "$$\n",
    "t_0 = \\frac{ (\\bar{x} - \\bar{y})}{\\sqrt{s_w^2 ({m_1}^{-1} + {m_2}^{-1})}}.\n",
    "$$\n",
    "其中，\n",
    "- $\\bar{x} = {m_1}^{-1} \\sum_{i=1}^{m_1} x_i$表示第一组的样本均值；\n",
    "- $\\bar{y} = {m_2}^{-1} \\sum_{i=1}^{m_2} y_i$表示第二组的样本均值；\n",
    "- $s_w^2 = \\frac{(m_1-1)\\sum{i=1}^{m_1}(x_i-\\bar{x})^2 + (m_2-1)\\sum_{j=1}^{m_2} (y_j-\\bar{y})^2}{m_1+m_2-2}$表示两组样本的合方差。\n",
    "\n",
    "可以证明，在原假设成立的情况下，$t \\sim t(m_1+m_2-2)$。于是，我们可以构造拒绝域为$\\{|t_0| > t_{1-\\alpha/2}(m_1+m_2-2)\\}$。当样本落入拒绝域时，则拒绝原假设；反之，则无法拒绝原假设。除了构造拒绝域这一方法之外，我们还可以计算其$p$值，即\n",
    "$$\n",
    "p = 2\\times P(t_{m_1+m_2-2} > |t_0|) .\n",
    "$$\n",
    "如果$p$值小于显著性水平$\\alpha$，则拒绝原假设；反之，则无法拒绝原假设。\n",
    "\n",
    "注：在这个问题中，$m_1=m_2=24$。"
   ]
  },
  {
   "cell_type": "code",
   "execution_count": 19,
   "id": "f27e30d6",
   "metadata": {},
   "outputs": [],
   "source": [
    "# Reconstruct a dataset\n",
    "Data2 = Data1.values\n",
    "list_type = [\"A\",\"B\"]\n",
    "Group2_data = [Data2[Data2[:,0] == x,1] for x in list_type]\n",
    "Group2_data = [group.astype(float) for group in Group2_data]\n",
    "# Two-sample t test\n",
    "Group2_data\n",
    "t0,pVal0 = stats.ttest_ind(Group2_data[0],Group2_data[1])"
   ]
  },
  {
   "cell_type": "code",
   "execution_count": 13,
   "id": "72577acd",
   "metadata": {},
   "outputs": [],
   "source": [
    "type_of_all_elements = [type(element) for element in Group2_data]"
   ]
  },
  {
   "cell_type": "code",
   "execution_count": 14,
   "id": "44e51079",
   "metadata": {},
   "outputs": [
    {
     "data": {
      "text/plain": [
       "[numpy.ndarray, numpy.ndarray]"
      ]
     },
     "execution_count": 14,
     "metadata": {},
     "output_type": "execute_result"
    }
   ],
   "source": [
    "type_of_all_elements"
   ]
  },
  {
   "cell_type": "code",
   "execution_count": 15,
   "id": "421510e8",
   "metadata": {
    "scrolled": true
   },
   "outputs": [
    {
     "ename": "AttributeError",
     "evalue": "'list' object has no attribute 'info'",
     "output_type": "error",
     "traceback": [
      "\u001b[1;31m---------------------------------------------------------------------------\u001b[0m",
      "\u001b[1;31mAttributeError\u001b[0m                            Traceback (most recent call last)",
      "Cell \u001b[1;32mIn[15], line 1\u001b[0m\n\u001b[1;32m----> 1\u001b[0m \u001b[43mGroup2_data\u001b[49m\u001b[38;5;241;43m.\u001b[39;49m\u001b[43minfo\u001b[49m()\n",
      "\u001b[1;31mAttributeError\u001b[0m: 'list' object has no attribute 'info'"
     ]
    }
   ],
   "source": [
    "Group2_data.info()\n"
   ]
  },
  {
   "cell_type": "code",
   "execution_count": null,
   "id": "b2456a57",
   "metadata": {},
   "outputs": [],
   "source": [
    "Group2_data"
   ]
  },
  {
   "cell_type": "code",
   "execution_count": null,
   "id": "2dc510c3",
   "metadata": {},
   "outputs": [],
   "source": [
    "Data2 = Data1.values\n",
    "Data2\n",
    "# Data2[:,0] == \"A\""
   ]
  },
  {
   "cell_type": "markdown",
   "id": "9110de14",
   "metadata": {},
   "source": [
    "首先，我们可以计算 $t$ 检验统计量为"
   ]
  },
  {
   "cell_type": "code",
   "execution_count": null,
   "id": "ac24ffab",
   "metadata": {},
   "outputs": [],
   "source": [
    "print(\"t statistic is:\" ,round(t0,4))"
   ]
  },
  {
   "cell_type": "markdown",
   "id": "0929fdbc",
   "metadata": {},
   "source": [
    "与其相应的临界值进行比较，即$t_{1-\\alpha/2}(m+n-2)$为"
   ]
  },
  {
   "cell_type": "code",
   "execution_count": null,
   "id": "93a018ac",
   "metadata": {},
   "outputs": [],
   "source": [
    "print(\"critical value is：\", round(t.ppf(1-alpha/2,24*2-2),4))"
   ]
  },
  {
   "cell_type": "markdown",
   "id": "1974901c",
   "metadata": {},
   "source": [
    "我们发现，$t$ 检验统计量的绝对值比临界值小得多，所以，无法拒绝原假设，也就是说，这两种饮食方式对体重的变化的影响无显著差异。"
   ]
  },
  {
   "cell_type": "markdown",
   "id": "871887fe",
   "metadata": {},
   "source": [
    "除了上述方法之外，我们仍可以采用 $p$ 值来得到结论。具体来说，我们可以计算 $p$ 值为"
   ]
  },
  {
   "cell_type": "code",
   "execution_count": null,
   "id": "5dcdc84c",
   "metadata": {},
   "outputs": [],
   "source": [
    "print(\"p-value is:\", round(pVal0,4))"
   ]
  },
  {
   "cell_type": "markdown",
   "id": "6acf4f35",
   "metadata": {},
   "source": [
    "由于 $p$ 值比显著性水平 $\\alpha$ 大，所以，无法拒绝原假设。"
   ]
  },
  {
   "cell_type": "markdown",
   "id": "4fbef53e",
   "metadata": {},
   "source": [
    "### Task2: 利用单因素方差分析模型，比较三种饮食方式对减重的影响是否存在差异？\n",
    "\n",
    "与Q1类似，Q2本质上可转化为，对于采用不同饮食方式的志愿者，他们的体重变化量分布是否存在差异？对于 $a=2$ 组样本的均值比较，最为常用的方法是 $t$ 检验。然而，对于$a\\geq 2$时，更为一般的方法是**单因子方差分析模型**。\n",
    "\n",
    "这里我们简单介绍一下单因素方差分析模型（One-way ANOVA 模型）。\n",
    "\n",
    "假设有 $a$ 组数据，每组数据有 $m$ 个，于是，共有 $n = am$ 个数据。对于第$i$组的数据而言，我们将数据记为$y_{i1},y_{i2},\\cdots,y_{ij},\\cdots,y_{im}$。\n",
    "在方差分析模型中，我们假定:\n",
    "\n",
    "（1）每一个数据 $y_{ij} = \\mu + \\alpha_i + \\epsilon_{ij}$，其中，$\\mu$是未知参数，表示总体均值，与组别和数据差异无关；$\\alpha_i$是未知参数，表示组内均值，与数据差异无关，$\\sum_{i=1}^a\\alpha_i = 0$；$\\epsilon_{ij}$是随机误差，表示数据之间的差异；\n",
    "\n",
    "（2）$\\epsilon_{ij}\\overset{i.i.d}{\\sim}N(0,\\sigma^2)$，$\\sigma^2$表示数据的波动。\n",
    "\n",
    "根据上述假定，易知\n",
    "$$\n",
    "y_{ij} \\sim N(\\mu+\\alpha_i , \\sigma^2) \\quad \\text{$x_{ij}$ 之间相互独立。}\n",
    "$$\n",
    "基于上述假定，“数据分布一致的问题”可以转化为“均值是否相等的问题”。我们构建了一对假设，分别为\n",
    "$$\n",
    "H_0: \\alpha_1 = \\alpha_2 = \\alpha_3 = 0 \\quad \\text{vs} \\quad H_1: \\text{$\\alpha_i$ 不全相等。}\n",
    "$$\n",
    "\n",
    "在方差分析模型中，我们需要建立方差分析表，即\n",
    "\n",
    "| 来源  | 自由度 | 平方和  | 均方 | 统计量 | \n",
    "| ----  | ----- |  ----- | ----- | ----- |\n",
    "| 因子  | a-1 | SSA | MSA | F |\n",
    "| 误差 | n-a | SSE | MSE |  |\n",
    "| 总和 | n-1 | SST |    |  |"
   ]
  },
  {
   "cell_type": "markdown",
   "id": "739e1cd9",
   "metadata": {},
   "source": [
    "其中，\n",
    "- $SS_A = m\\sum_{i=1}^{a} (\\bar{y}_{i\\cdot}-\\bar{y}_{\\cdot\\cdot})^2$;\n",
    "- $MS_A = (a-1)^{-1}SS_A$;\n",
    "- $SS_E = \\sum_{i=1}^{a} \\sum_{j=1}^m (y_{ij} - \\bar{y}_{i\\cdot})^2$;\n",
    "- $MS_E = (n-a)^{-1}SS_E $;\n",
    "- $F = MS_A/MS_E$。\n",
    "\n",
    "我们回到这个数据集。比较在三种饮食方式下，志愿者体重变化量的平均水平是否一致？构建ANOVA表如下："
   ]
  },
  {
   "cell_type": "code",
   "execution_count": null,
   "id": "0a326c83",
   "metadata": {},
   "outputs": [],
   "source": [
    "model = ols('Weight_loss~Diet_type', Data).fit() # Add C() to numeric group indices\n",
    "anovaResults = round(anova_lm(model),4)\n",
    "print(\"\\nThe ANOVA table: \\n\", anovaResults)"
   ]
  },
  {
   "cell_type": "code",
   "execution_count": null,
   "id": "ec917dbd",
   "metadata": {},
   "outputs": [],
   "source": [
    "display_quiz(\"/Users/lyuni/ECNU_DaSE/Courses/Stat_ML/Experiment/Question/T1_Q1.json\")"
   ]
  },
  {
   "cell_type": "markdown",
   "id": "a7b9108e",
   "metadata": {},
   "source": [
    "</details>\n",
    "\n",
    "<details><summary>Q1【点击提示】</summary>\n",
    "    \n",
    "    - $p$ 值小于显著性水平，我们则拒绝原假设；\n",
    "    - $p$ 值大于显著性水平，我们则接受原假设；\n",
    "    \n",
    "</details>"
   ]
  },
  {
   "cell_type": "code",
   "execution_count": null,
   "id": "da7ac252",
   "metadata": {},
   "outputs": [],
   "source": [
    "display_quiz(\"/Users/lyuni/ECNU_DaSE/Courses/Stat_ML/Experiment/Question/T1_Q2.json\")"
   ]
  },
  {
   "cell_type": "markdown",
   "id": "4ddac360",
   "metadata": {},
   "source": [
    "</details>\n",
    "\n",
    "<details><summary>Q2【点击提示】</summary>\n",
    "    \n",
    "   我们可以使用 f.ppf 函数来寻找临界值，可以尝试以下语句。\n",
    "    ```python\n",
    "    print(\"The critical value is:\", round(f.ppf( p , df1 , df2),4))\n",
    "    ```\n",
    "    \n",
    "   - p 表示 $p$-分位数的概率； \n",
    "   - df1 表示 $F$ 分布的分子自由度；\n",
    "   - df2 表示 $F$ 分布的分母自由度。\n",
    "    \n",
    "</details>"
   ]
  },
  {
   "cell_type": "code",
   "execution_count": null,
   "id": "936afe04",
   "metadata": {},
   "outputs": [],
   "source": [
    "display_quiz(\"/Users/lyuni/ECNU_DaSE/Courses/Stat_ML/Experiment/Question/T1_Q3.json\")"
   ]
  },
  {
   "cell_type": "markdown",
   "id": "c3a87629",
   "metadata": {},
   "source": [
    "</details>\n",
    "\n",
    "<details><summary>Q3【点击提示】</summary>\n",
    "    \n",
    "   在单因素方差分析模型中，我们所构造的拒绝域形如$\\{ F_0 > F_{1-\\alpha}(a-1,n-a) \\}$。这里$F_0$指的是我们所计算的检验统计量，而$F_{1-\\alpha}(a-1,n-a)$是相对应的临界值。\n",
    "    \n",
    "</details>"
   ]
  },
  {
   "cell_type": "markdown",
   "id": "8d3f331a",
   "metadata": {},
   "source": [
    "- 如果我们接受原假设，那么我们认为三种饮食方式对体重变化量的影响是一致的；\n",
    "- 如果我们拒绝原假设，那么我们认为三种饮食方式对体重变化量的影响是不完全一致的。也就是说，至少有两种饮食方式对体重变化量的影响是明显的。"
   ]
  },
  {
   "cell_type": "markdown",
   "id": "d1671fd3",
   "metadata": {},
   "source": [
    "### Task 3: 给出单因素方差分析模型中参数的估计值，并阐述其含义。\n",
    "\n",
    "在单因素方差分析模型中，待估参数有\n",
    "- $\\mu$: 总体平均水平；\n",
    "- $\\alpha_i$: 第$i$个水平的效应值；\n",
    "- $\\sigma^2$: 误差方差。\n",
    "\n",
    "$\\mu$的最大似然估计是\n",
    "$$\n",
    "\\hat{\\mu} = \\bar{y}_{\\cdot\\cdot} = \\frac{1}{am}\\sum_{i=1}^a\\sum_{j=1}^m y_{ij};\n",
    "$$\n",
    "\n",
    "$\\alpha_i$的最大似然估计是\n",
    "$$\n",
    "\\hat{\\alpha}_i = \\bar{y}_{i\\cdot} - \\bar{y}_{\\cdot\\cdot} = \\frac{1}{m}\\sum_{j=1}^m y_{ij} - \\frac{1}{am}\\sum_{i=1}^a\\sum_{j=1}^m y_{ij};\n",
    "$$\n",
    "\n",
    "$\\sigma^2$的常用估计是\n",
    "$$\n",
    "\\hat{\\sigma}^2 = \\frac{SS_E}{a(m-1)} = \\frac{\\sum_{i=1}^a\\sum_{j=1}^m (y_{ij} - \\bar{y}_{i\\cdot})^2}{n-a}= MS_E;\n",
    "$$\n",
    "\n",
    "于是，我们可以计算"
   ]
  },
  {
   "cell_type": "code",
   "execution_count": 22,
   "id": "90ca7512",
   "metadata": {},
   "outputs": [
    {
     "name": "stdout",
     "output_type": "stream",
     "text": [
      "Overall Mean is: 3.8167\n"
     ]
    }
   ],
   "source": [
    "hat_mu = np.mean(Data.Weight_loss)\n",
    "print(\"Overall Mean is:\", round(hat_mu,4))"
   ]
  },
  {
   "cell_type": "code",
   "execution_count": 23,
   "id": "52ba9f18",
   "metadata": {},
   "outputs": [
    {
     "name": "stdout",
     "output_type": "stream",
     "text": [
      "The effect of each level is [-0.5167 -0.7042  1.2208]\n"
     ]
    }
   ],
   "source": [
    "Data3 = Data.values\n",
    "list_type = [\"A\",\"B\",\"C\"]\n",
    "Group3_data = [Data3[Data3[:,0] == x, 1] for x in list_type]\n",
    "hat_alpha = np.array([np.mean(Group3_data[i]) for i in range(a)]) - hat_mu\n",
    "print(\"The effect of each level is\", np.round(hat_alpha,4))"
   ]
  },
  {
   "cell_type": "code",
   "execution_count": null,
   "id": "3c08198d",
   "metadata": {},
   "outputs": [],
   "source": [
    "SSE = 0\n",
    "for i in range(a):\n",
    "    sub_Data = Data3[Data3[:,0] == list_type[i],1] \n",
    "    sub_sse = np.var(sub_Data) * (m) # Numpy 库中的var函数，分母上除以 m，而非（m-1）\n",
    "    SSE +=  sub_sse\n",
    "\n",
    "hat_sigma2 = SSE/(a*(m-1))\n",
    "print(\"The estimate of sigma^2 is\", round(hat_sigma2,4))"
   ]
  },
  {
   "cell_type": "markdown",
   "id": "89623c7a",
   "metadata": {},
   "source": [
    "## Task 4: 说明我们所使用的模型的合理性\n",
    "\n",
    "模型一般是有适用范围的。在实际应用中，我们需要考虑模型是否符合数据的特征。如果选用了不恰当的模型，那么我们就无法信赖模型的结果，从而无法做出合理的决策。因此，我们需要考虑所使用的模型的合理性。\n",
    "\n",
    "请回答以下的问题："
   ]
  },
  {
   "cell_type": "code",
   "execution_count": null,
   "id": "bdd9c80c",
   "metadata": {},
   "outputs": [],
   "source": [
    "display_quiz(\"/Users/lyuni/ECNU_DaSE/Courses/Stat_ML/Experiment/Question/T1_Q4.json\")"
   ]
  },
  {
   "cell_type": "markdown",
   "id": "c831f174",
   "metadata": {},
   "source": [
    "</details>\n",
    "\n",
    "<details><summary>Q4【点击提示】</summary>\n",
    "    \n",
    "    在单因素方差分析模型中，我们记每一个数据$x_{ij}$，且满足\n",
    "    $$\n",
    "    y_{ij} \\sim N(\\mu + \\alpha_i ,\\sigma^2)  \\ \\text{independently.}\n",
    "    $$\n",
    "    \n",
    "</details>"
   ]
  },
  {
   "cell_type": "markdown",
   "id": "576c7e6a",
   "metadata": {},
   "source": [
    "在单因素方差分析的模型中，很容易发现我们所提出的所有假设都是关于**误差**的。具体来说，单因素方差分析模型为\n",
    "\n",
    "$$y_{ij} = \\mu + \\alpha_i + \\epsilon_{ij}$$\n",
    "\n",
    "其中，$\\epsilon_{ij}$是独立同分布的，且均服从均值为零，方差为$\\sigma^2$的正态分布，即$\\epsilon \\overset{i.i.d}{\\sim} N(0,\\sigma^2)$.总结一下，关于误差，我们总共提了三个假设：\n",
    "- 独立性；\n",
    "- 同方差；\n",
    "- 正态性。\n",
    "这三个假设的重要性也是从高到低进行排列的。\n",
    "\n",
    "我们需要验证模型是否合理，本质上就是在检验上述三个假设是否成立。但是，仍有一个问题：误差是无法观测到的。于是，我们从数据挖掘出一个可以**代替**误差的概念。\n",
    "\n",
    "从本质上来说，误差是数据与其真实均值的差距，即$\\epsilon_{ij} = y_{ij} - \\mu - \\alpha_i$。真实均值无法被观测到，很自然的一个想法是：估计真实均值。在上一个任务中，我们可以给出模型参数的估计值。于是，我们可以得到数据与**估计出**均值的差距，即$$y_{ij} = \\hat{\\mu} - \\hat{\\alpha}_i.$$\n",
    "为了便利，我们给出一个**新**的概念——残差。\n",
    "\n",
    "值得注意的是，残差本质上是数据与所拟合模型之间的差异，即\n",
    "$$\n",
    "e_{ij} = y_{ij} - \\hat{y}_{ij}\n",
    "$$\n",
    "其中，$\\hat{y}_{ij} = \\hat{\\mu} + \\hat{\\alpha}_i = \\bar{y}_{\\cdot\\cdot} + (\\bar{y}_{i\\cdot} - \\bar{y}_{\\cdot\\cdot}) = \\bar{y}_{i\\cdot}$表示$y_{ij}$所对应的拟合值或预测值，这些概念同样也可以在线性回归模型中使用。"
   ]
  },
  {
   "cell_type": "code",
   "execution_count": 24,
   "id": "941bfbef",
   "metadata": {},
   "outputs": [
    {
     "data": {
      "text/plain": [
       "Text(0, 0.5, 'Residuals')"
      ]
     },
     "execution_count": 24,
     "metadata": {},
     "output_type": "execute_result"
    }
   ],
   "source": [
    "Res = Data3\n",
    "list_type = [\"A\",\"B\",\"C\"]\n",
    "\n",
    "for i in list_type:\n",
    "    group = Res[Res[:,0] == i,1]\n",
    "    Res[Res[:,0] == i,1] = group - np.mean(group)\n",
    "    \n",
    "plt.plot(Res[:,1],marker = \".\",color=\"blue\",linestyle=\"none\")\n",
    "plt.xlabel(\"Index\")\n",
    "plt.ylabel(\"Residuals\")"
   ]
  },
  {
   "cell_type": "code",
   "execution_count": 25,
   "id": "39675efe",
   "metadata": {},
   "outputs": [
    {
     "data": {
      "text/plain": [
       "array([['A', 0.4999999999999978],\n",
       "       ['A', 2.7000000000000006],\n",
       "       ['A', -2.5999999999999965],\n",
       "       ['A', -0.4000000000000008],\n",
       "       ['A', -0.5000000000000022],\n",
       "       ['A', -1.2999999999999994],\n",
       "       ['A', -1.2999999999999994],\n",
       "       ['A', 5.200000000000001],\n",
       "       ['A', -1.3999999999999937],\n",
       "       ['A', -0.20000000000000506],\n",
       "       ['A', -1.7999999999999994],\n",
       "       ['A', -0.2999999999999994],\n",
       "       ['A', 0.29999999999999494],\n",
       "       ['A', -2.3999999999999937],\n",
       "       ['B', -5.212500000000002],\n",
       "       ['B', -1.1125000000000003],\n",
       "       ['B', -1.4124999999999974],\n",
       "       ['B', 1.187499999999997],\n",
       "       ['B', -2.512499999999999],\n",
       "       ['B', -0.4124999999999974],\n",
       "       ['B', 0.48750000000000115],\n",
       "       ['B', -0.11250000000000027],\n",
       "       ['B', -1.1125000000000003],\n",
       "       ['B', 1.0875000000000026],\n",
       "       ['B', 1.5875000000000026],\n",
       "       ['B', 0.1874999999999969],\n",
       "       ['B', -3.6125000000000003],\n",
       "       ['C', 1.9625000000000012],\n",
       "       ['C', 0.5625000000000027],\n",
       "       ['C', -1.6375000000000002],\n",
       "       ['C', 2.7624999999999984],\n",
       "       ['C', 0.3624999999999998],\n",
       "       ['C', 1.7624999999999984],\n",
       "       ['C', 1.9625000000000012],\n",
       "       ['C', 2.2624999999999984],\n",
       "       ['C', -4.137499999999993],\n",
       "       ['C', 2.5624999999999956],\n",
       "       ['C', 1.2624999999999984],\n",
       "       ['C', -0.03749999999999876],\n",
       "       ['A', -3.8999999999999937],\n",
       "       ['A', -2.200000000000005],\n",
       "       ['A', 1.2000000000000006],\n",
       "       ['A', 0.7999999999999949],\n",
       "       ['A', 5.700000000000001],\n",
       "       ['A', -0.8999999999999937],\n",
       "       ['A', 0.6000000000000063],\n",
       "       ['A', 0.20000000000000062],\n",
       "       ['A', 1.799999999999995],\n",
       "       ['A', 0.20000000000000062],\n",
       "       ['B', 1.0875000000000026],\n",
       "       ['B', -0.7124999999999946],\n",
       "       ['B', 2.687499999999997],\n",
       "       ['B', 0.38749999999999973],\n",
       "       ['B', 2.187499999999997],\n",
       "       ['B', -1.4124999999999974],\n",
       "       ['B', 2.2875000000000054],\n",
       "       ['B', 2.987499999999994],\n",
       "       ['B', 4.787500000000005],\n",
       "       ['B', -4.512500000000006],\n",
       "       ['B', 1.187499999999997],\n",
       "       ['C', -2.5374999999999988],\n",
       "       ['C', -4.137499999999993],\n",
       "       ['C', -1.5374999999999988],\n",
       "       ['C', -4.537499999999999],\n",
       "       ['C', -2.2375000000000016],\n",
       "       ['C', 3.5624999999999956],\n",
       "       ['C', -0.5374999999999988],\n",
       "       ['C', -2.2375000000000016],\n",
       "       ['C', -0.9375000000000044],\n",
       "       ['C', 0.2624999999999984],\n",
       "       ['C', 4.162500000000004],\n",
       "       ['C', 1.0624999999999956]], dtype=object)"
      ]
     },
     "execution_count": 25,
     "metadata": {},
     "output_type": "execute_result"
    }
   ],
   "source": [
    "Res"
   ]
  },
  {
   "cell_type": "markdown",
   "id": "27fde40a",
   "metadata": {},
   "source": [
    "#### 独立性检验\n",
    "\n",
    "在实际应用中，验证数据具有独立性是一个很难的问题。一种常见具有**不独立**特点的数据具有自相关性。Durbin-Watson检验（简称“DW检验“）是一种检验序列是否存在一阶自相关性的常用方法。对于残差序列$\\{e_i, i = 1,2,\\cdots,n,\\cdots\\}$，考虑残差相关性方程为\n",
    "$$\n",
    "e_{i} = \\rho e_{i-1} + v_{i}, \\quad v_i \\overset{i.i.d}{\\sim} N(0,\\sigma_v^2)，\n",
    "$$\n",
    "其中，$|\\rho| < 1$。\n",
    "\n",
    "在Durbin-Watson检验中，我们需要检验这样一对假设\n",
    "$$\n",
    "H_0 : \\rho = 0 \\quad \\text{vs} \\quad H_1: \\rho > 0.\n",
    "$$\n",
    "可以注意到，$\\rho = 0$表示残差序列无自相关性。也就是说，如果我们接受原假设，那么我们就认为序列数据是满足独立性的。\n",
    "\n",
    "DW检验统计量为\n",
    "$$\n",
    "DW = \\frac{\\sum_{i=2}^n (e_i - e_{i-1})^2}{\\sum_{i=1}^n e_{i}^2}\n",
    "$$\n",
    "可以注意到，$DW \\approx 2(1-r_1)$，其中$r_1$表示一阶滞后样本自相关系数，即\n",
    "$$\n",
    "r_1 = \\frac{\\sum_{i=2}^{n} e_{i-1}e_{i}}{\\sum_{i=1}^n e_{i}^2}.\n",
    "$$\n",
    "对于无相关性的残差序列，$r_1$接近于零，所以$DW$统计量接近于$2$。\n",
    "\n",
    "判断规则为\n",
    "- 如果 $DW < d_L$, 那么拒绝原假设；\n",
    "- 如果 $DW > d_U$, 那么接受原假设；\n",
    "- 如果 $d_L \\leq DW \\leq d_U$, 那么无法判断。\n",
    "\n",
    "$d_L$和$d_U$与样本量、线性模型中特征个数以及显著性水平有关。具体可以查表，如下：![DW_table.jpg](Figures/DW_table.jpg)\n",
    "如果需要了解更多内容，可以阅读参考文献[1]-[3]。\n",
    "\n",
    "接下来，我们看一下如何在python中实现Durbin Watson检验？"
   ]
  },
  {
   "cell_type": "code",
   "execution_count": null,
   "id": "629a1286",
   "metadata": {},
   "outputs": [],
   "source": [
    "DW = durbin_watson(Res[:,1])\n",
    "print(\"DW statistic is\", round(DW,4))"
   ]
  },
  {
   "cell_type": "markdown",
   "id": "30959cc5",
   "metadata": {},
   "source": [
    "在python中statsmodels.stats.stattools.durbin_watson()可以用于计算Durbin Watson检验统计量，但无法得到其临界值或者$p$值。还有一种较为**粗略**的判断方法：$DW$一般介于0到4之间。如果$DW$值接近于2，我们一般可以认为残差序列不具有相关性。"
   ]
  },
  {
   "cell_type": "markdown",
   "id": "e01d8a5b",
   "metadata": {},
   "source": [
    "除了python之外，使用R语言也可以得到DW统计量，并可以输出相应的$p$值。具体代码如下："
   ]
  },
  {
   "cell_type": "code",
   "execution_count": null,
   "id": "bd80c796",
   "metadata": {},
   "outputs": [],
   "source": [
    "#### 以下需要切换到 R 语言\n",
    "#########################################################################\n",
    "setwd(\"/Users/lyuni/ECNU_DaSE/Courses/Stat_ML/Experiment/Data\")\n",
    "data = read.csv(\"Data_1.csv\",header=TRUE)\n",
    "\n",
    "data$weight.loss = data$initial.weight - data$final.weight\n",
    "mod = aov(weight.loss~diet.type,data)\n",
    "res = residuals(mod)\n",
    "library(lmtest,attach.required=TRUE)\n",
    "dwtest(mod,alternative = \"greater\")"
   ]
  },
  {
   "cell_type": "markdown",
   "id": "8f3378d2",
   "metadata": {},
   "source": [
    "方差齐性检验\n",
    "方差齐性检验的目的是判断各组数据的方差是否相等。对于第 𝑖 组的数据而言，\n",
    "𝑥𝑖𝑗∼𝑁(𝜇+𝛼𝑖,𝜎2𝑖),𝑖=1,2,⋯,𝑎;𝑗=1,2,⋯,𝑚𝑖.\n",
    " \n",
    "在方差齐性检验中，我们实际上提出了这样的一对假设\n",
    "𝐻0:𝜎21=𝜎22=⋯=𝜎2𝑎vs𝐻1:至少存在两组数据，𝜎2𝑖≠𝜎2𝑗.\n",
    " \n",
    "接下来将介绍两种方差齐性的检验方法：Bartlett 检验和 修正后 Levene 检验。"
   ]
  },
  {
   "cell_type": "code",
   "execution_count": null,
   "id": "6f60b512",
   "metadata": {},
   "outputs": [],
   "source": [
    "plt.plot(Res[:,0],Res[:,1],\".\",color=\"blue\")"
   ]
  },
  {
   "cell_type": "markdown",
   "id": "be66f0cf",
   "metadata": {},
   "source": [
    "##### Bartlett检验\n",
    "在Bartlett检验中，所使用的检验统计量为\n",
    "$$\n",
    "\\chi_0^2 = 2.3026 \\frac{q}{c}\n",
    "$$\n",
    "其中，\n",
    "- $ q = (n - a) \\log_{10}s_p^2 - \\sum_{i=1}^a (m_i-1)  \\log_{10}s_i^2 $；\n",
    "- $c = 1 + \\frac{1}{3(a-1)}\\left( \\sum_{i=1}^a (m_i-1)^{-1} - (n-a)^{-1} \\right)$；\n",
    "- $s_p^2 = \\frac{\\sum_{i}  (m_i-1)s^2_i}{n-a}$；\n",
    "- $s_i^2$ 表示第$i$组数据的样本方差。\n",
    "\n",
    "注意到，如果样本方差$s_i^2$差异大，那么$q$非常大；如果样本方差$s_i^2$完全一致，那么$q$为零。基于这个想法，如果检验统计量$\\chi_0^2$过大，那么我们就拒绝原假设。具体来说，我们拒绝原假设当且仅当\n",
    "$$\n",
    "\\chi_0^2 > \\chi_{1-\\alpha,a-1}^2\n",
    "$$\n",
    "其中$\\chi_{1-\\alpha,a-1}^2$是自由度为$a-1$的卡方分布的$1-\\alpha$分位数。\n",
    "\n",
    "然而，Bartlett检验存在一个**缺陷**：Bartlett检验对正态分布假定非常敏感。如果数据背离正态性假定，建议不要使用Bartlett检验。"
   ]
  },
  {
   "cell_type": "code",
   "execution_count": null,
   "id": "1d74c6ca",
   "metadata": {},
   "outputs": [],
   "source": [
    "# Bartlett's Test\n",
    "Bart_stat, Bart_pVal = stats.bartlett(Group3_data[0], Group3_data[1], Group3_data[2])\n",
    "print(\"Bartlett's test statistic is\", round(Bart_stat,4))\n",
    "print(\"The p value is\", round(Bart_pVal,4))"
   ]
  },
  {
   "cell_type": "markdown",
   "id": "01b88fa7",
   "metadata": {},
   "source": [
    "##### 修正后 Levene 检验\n",
    "\n",
    "因为 Bartlett 对正态性假定的敏感性，所以对于背离正态性的数据，可以通过修正后的 Levene 检验来解决这个问题。令\n",
    "$$\n",
    "y_{ij}^{\\ast} = |y_{ij} - \\tilde{y}_{i}|, i = 1,2,\\cdots,a; j = 1,2,\\cdots,n_i.\n",
    "$$\n",
    "其中，$\\tilde{y}_{i}$表示第$i$组数据的中位数。基于$\\{y_{ij}^{\\ast}\\}$来构建$F$统计量。这个统计量可以用来评价每组数据的绝对偏差的均值是否相等，从而可以判断每组数据的波动是否一致。"
   ]
  },
  {
   "cell_type": "code",
   "execution_count": null,
   "id": "91d984d4",
   "metadata": {},
   "outputs": [],
   "source": [
    "Lev_stat, Lev_pVal = stats.levene(Group3_data[0], Group3_data[1], Group3_data[2])\n",
    "print(\"Levene's test statistic is\", round(Lev_stat,4))\n",
    "print(\"The p value is\", round(Lev_pVal,4))"
   ]
  },
  {
   "cell_type": "markdown",
   "id": "8335fb8f",
   "metadata": {},
   "source": [
    "根据Bartlett检验和修正后Levene检验的结果，我们都可以断定残差满足方差齐性。"
   ]
  },
  {
   "cell_type": "markdown",
   "id": "6136e570",
   "metadata": {},
   "source": [
    "#### 正态性检验\n",
    "\n",
    "我们仍可以先通过图象来判断数据是否满足正态性。为了验证数据是否满足某一假定分布，Quantile-Quantile图（简称“QQ图”）是最为常用的一种方法。其思想是：横坐标表示理论分布所对应的分位数，纵坐标表示经验分布所对应的分位数（样本分位数）。如果这些点是分布在一条直线上，那么可以判断数据服从该假定分布。"
   ]
  },
  {
   "cell_type": "code",
   "execution_count": null,
   "id": "0878a76a",
   "metadata": {},
   "outputs": [],
   "source": [
    "Res1 = Res[:,1].astype(float)\n",
    "osm, osr = stats.probplot(Res1,dist= \"norm\",plot= plt)\n",
    "plt.grid()\n",
    "plt.show()"
   ]
  },
  {
   "cell_type": "markdown",
   "id": "09a9b21b",
   "metadata": {},
   "source": [
    "根据上图所示，总体上来看，残差分布可以认为是正态分布。\n",
    "\n",
    "##### 补充：异常数据的检测方法\n",
    "基于残差，我们可以构造标准化残差，即\n",
    "$$\n",
    "d_{ij} = \\frac{e_{ij}}{\\sqrt{MS_E}}\n",
    "$$\n",
    "一般而言，如果残差满足正态分布，那么\n",
    "- 约 68\\% 落在 $\\pm 1$之内；\n",
    "- 约 95\\% 落在 $\\pm 2$之内；\n",
    "- 几乎全部落在 $\\pm 3$之内。\n",
    "\n",
    "如果标准化残差的绝对值大于3，那么所对应的数据可以判断为异常值。"
   ]
  },
  {
   "cell_type": "markdown",
   "id": "feeb10d1",
   "metadata": {},
   "source": [
    "##### Shapiro-Wilk 检验\n",
    "\n",
    "假设数据$\\{x_1,x_2,\\cdots,x_n\\}$来自正态总体$N(\\mu,\\sigma^2)$。令$x_{(1)}\\leq x_{(2)}\\leq \\cdots \\leq x_{(n)}$为其次序统计量。在Shapiro-Wilk 检验中，检验统计量为\n",
    "$$\n",
    "W = \\frac{\\left(\\sum_{i=1}^n (a_{i}-\\bar{a}) (x_{i}-\\bar{x})\\right)^2}{\\sum_{i=1}^n (a_i-\\bar{a})^2 \\sum_{i=1}^n (x_{(i)} - \\bar{x})^2}\n",
    "$$\n",
    "其中$a_1,a_2,\\cdots,a_n$在给定样本量$n$时是一些特定的值。这里可以近似的看作“理论分位数”。于是，检验统计量$W$可以认为是理论分位数和样本分位数的相关系数的平方。如果它们约接近于一条直线，那么我们就认为数据是服从正态分布的。于是，我们所构造的拒绝域是$\\{W\\leq W_{\\alpha}\\}$。在实际数据分析中，我们可以用python代码来实现。"
   ]
  },
  {
   "cell_type": "code",
   "execution_count": null,
   "id": "46ceea45",
   "metadata": {},
   "outputs": [],
   "source": [
    "SW_stat,SW_pVal = stats.shapiro(Res1)\n",
    "print(\"Shapiro-Wilk test statistic is\", round(SW_stat,4))\n",
    "print(\"The p value is\", round(SW_pVal,4))"
   ]
  },
  {
   "cell_type": "markdown",
   "id": "c9c9d3f4",
   "metadata": {},
   "source": [
    "根据上述分析，残差满足正态分布。"
   ]
  },
  {
   "cell_type": "markdown",
   "id": "9e2736b5",
   "metadata": {},
   "source": [
    "## Task 5: 试用Tukey方法比较 3 个饮食方式水平下的减重程度两两是否存在差异。\n",
    "接下来，我们需要判断哪几对是存在差异的，并且需要量化这些差异是否是显著的？这里我们采用的是理论课程里介绍过的方法——Tukey。在Tukey方法中，需要计算每组样本均值的差，并将其与临界值\n",
    "$$\n",
    "c = q_{1-\\alpha}(a,df) \\cdot \\hat{\\sigma}/\\sqrt{m}.\n",
    "$$\n",
    "进行比较。这里所计算的分位数，实际上是$t$化极差统计量的分位数，其中$t$化极差统计量定义为\n",
    "$$\n",
    "q(a,df) = \\max_i \\frac{\\bar{y}_{i\\cdot} - \\mu}{\\hat{\\sigma}/\\sqrt{m}}  - \\min_i \\frac{\\bar{y}_{i\\cdot} - \\mu}{\\hat{\\sigma}/\\sqrt{m}}.\n",
    "$$\n",
    "这里$a$表示因子水平数，$m$表示一组内的数据个数，$\\hat{\\sigma}$是标准差的估计，即$\\hat{\\sigma}=\\sqrt{\\hat{\\sigma}^2}$。\n",
    "\n",
    "值得注意的是，这里$q_{1-\\alpha}(a,df)$表示$t$化极差统计量的分位数，通常需要查表而得。![Quantiles_T2.jpeg](Figures/Quantiles_T2.jpeg)\n",
    "\n",
    "备注：上表中的$r$对应于所定义的$a$，而上表中的$f$对应于所定义的df。\n",
    "\n",
    "我们判断方式是\n",
    "- 如果两组样本均值的绝对差大于临界值，那么认为这两组样本的均值是不同的；\n",
    "- 如果两组样本均值的绝对差小于等于临界值，那么认为这两组样本的均值是相同的。"
   ]
  },
  {
   "cell_type": "code",
   "execution_count": null,
   "id": "59458f4b",
   "metadata": {},
   "outputs": [],
   "source": [
    "## Another Code for One-way ANOVA\n",
    "data1 = Data.values \n",
    "list_type = [\"A\",\"B\",\"C\"]\n",
    "groups = [data1[data1[:,0] == x, 1] for x in list_type]\n",
    "\n",
    "F_stat, F_pVal = stats.f_oneway(groups[0],groups[1],groups[2])\n",
    "print(\"The test statistic in One-way ANOVA model is\", round(F_stat,4))\n",
    "print(\"The p value in One-way ANOVA model is\", round(F_pVal,4))\n",
    "\n",
    "## Tukey Method\n",
    "Tukey= pairwise_tukeyhsd(endog = Data[\"Weight_loss\"], groups=Data[\"Diet_type\"],alpha=alpha)\n",
    "print(Tukey)"
   ]
  },
  {
   "cell_type": "markdown",
   "id": "1a9188f0",
   "metadata": {},
   "source": [
    "从上表中，我们可以发现：饮食方式A和C，B和C对体重的改变量是有显著的区别的，而饮食方式A和B对体重的改变量没有显著差异。\n",
    "\n",
    "可以注意到，除了可以判断每两组均值差的**同时**置信区间。根据所构建的同时置信区间，我们也可以判断两组样本的均值是否存在显著差异。请回答以下的问题。"
   ]
  },
  {
   "cell_type": "markdown",
   "id": "96452433",
   "metadata": {},
   "source": [
    "### 随堂提问\n",
    "\n",
    "#### Q5"
   ]
  },
  {
   "cell_type": "code",
   "execution_count": null,
   "id": "d2149af6",
   "metadata": {},
   "outputs": [],
   "source": [
    "display_quiz(\"/Users/lyuni/ECNU_DaSE/Courses/Stat_ML/Experiment/Question/T2_Q1.json\")"
   ]
  },
  {
   "cell_type": "markdown",
   "id": "85d5da8d",
   "metadata": {},
   "source": [
    "</details>\n",
    "\n",
    "<details><summary>Q5【点击提示】</summary>\n",
    "    \n",
    "    请回顾：假设检验与区间估计的关系。\n",
    "  \n",
    "</details>"
   ]
  },
  {
   "cell_type": "markdown",
   "id": "825cea8e",
   "metadata": {},
   "source": [
    "#### Q6"
   ]
  },
  {
   "cell_type": "code",
   "execution_count": null,
   "id": "8e881d74",
   "metadata": {},
   "outputs": [],
   "source": [
    "display_quiz(\"/Users/lyuni/ECNU_DaSE/Courses/Stat_ML/Experiment/Question/T2_Q2.json\")"
   ]
  },
  {
   "cell_type": "markdown",
   "id": "002783da",
   "metadata": {},
   "source": [
    "</details>\n",
    "\n",
    "<details><summary>Q6【点击提示】</summary>\n",
    "    \n",
    "    请计算出Bonferroni方法所构造的同时置信区间的上下限。\n",
    "  \n",
    "</details>"
   ]
  },
  {
   "cell_type": "markdown",
   "id": "bb77a14c",
   "metadata": {},
   "source": [
    "#### 参考文献\n",
    "\n",
    "[1] Durbin, J., & Watson, G. S. (1950). Testing for Serial Correlation in Least Squares Regression: I. Biometrika, 37(3/4), 409–428. https://doi.org/10.2307/2332391\n",
    "\n",
    "[2] Durbin, J., & Watson, G. S. (1951). Testing for Serial Correlation in Least Squares Regression. II. Biometrika, 38(1/2), 159–177. https://doi.org/10.2307/2332325\n",
    "\n",
    "[3] Montgomery, D. C., Peck, E. A., & Vining, G. G. (2012). Introduction to linear regression analysis. John Wiley & Sons. (Chapter 14).\n",
    "\n",
    "[4] Brown, M. B., & Forsythe, A. B. (1974). Robust tests for the equality of variances. Journal of the American statistical association, 69(346), 364-367.\n",
    "\n",
    "[5] Montgomery D C. Design and analysis of experiments[M]. John wiley & sons, 2013. (Chapter 3).\n",
    "\n",
    "[6] Shaphiro, S., & Wilk, M. B. J. B. (1965). An analysis of variance test for normality. Biometrika, 52(3), 591-611."
   ]
  },
  {
   "cell_type": "code",
   "execution_count": null,
   "id": "56210c59",
   "metadata": {},
   "outputs": [],
   "source": []
  }
 ],
 "metadata": {
  "kernelspec": {
   "display_name": "Python 3 (ipykernel)",
   "language": "python",
   "name": "python3"
  },
  "language_info": {
   "codemirror_mode": {
    "name": "ipython",
    "version": 3
   },
   "file_extension": ".py",
   "mimetype": "text/x-python",
   "name": "python",
   "nbconvert_exporter": "python",
   "pygments_lexer": "ipython3",
   "version": "3.10.9"
  }
 },
 "nbformat": 4,
 "nbformat_minor": 5
}
